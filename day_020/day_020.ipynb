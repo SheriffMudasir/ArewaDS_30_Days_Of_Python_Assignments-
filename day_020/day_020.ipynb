{
 "cells": [
  {
   "cell_type": "markdown",
   "metadata": {},
   "source": [
    "# Exercises: Day 20"
   ]
  },
  {
   "cell_type": "code",
   "execution_count": 9,
   "metadata": {},
   "outputs": [
    {
     "name": "stdout",
     "output_type": "stream",
     "text": [
      "<Response [404]>\n"
     ]
    }
   ],
   "source": [
    "# Read this url and find the 10 most frequent words. romeo_and_juliet = 'http://www.gutenberg.org/files/1112/1112.txt'\n",
    "import requests\n",
    "url = 'http://www.gutenberg.org/files/1112/1112.txt'\n",
    "response = requests.get(url)\n",
    "print(response)"
   ]
  },
  {
   "cell_type": "code",
   "execution_count": 17,
   "metadata": {},
   "outputs": [
    {
     "name": "stdout",
     "output_type": "stream",
     "text": [
      "[5, 8]\n",
      "Min Weight: 2 kg\n",
      "Max Weight: 11 kg\n",
      "Mean Weight: 4.708955223880597 kg\n",
      "Median Weight: 5.0 kg\n"
     ]
    }
   ],
   "source": [
    "# Read the cats API and cats_api = 'https://api.thecatapi.com/v1/breeds' and find\n",
    "# the min, max, mean, median, standard deviation of cats' weight in metric units.\n",
    "# Create a frequency table of country and breed of cats\n",
    "import requests\n",
    "import json\n",
    "from statistics import mean, median, stdev\n",
    "\n",
    "url = 'https://api.thecatapi.com/v1/breeds'\n",
    "response = requests.get(url)\n",
    "cats_api = response.json()\n",
    "\n",
    "weights_metric = []\n",
    "\n",
    "for cat in cats_api:\n",
    "    weight_metric = cat['weight']['metric'].split(' - ')\n",
    "    weight_metric = [int(w) for w in weight_metric]\n",
    "    weights_metric.extend(weight_metric)\n",
    "    \n",
    "print(weight_metric)\n",
    "\n",
    "\n",
    "weight_min = min(weights_metric)\n",
    "weight_max = max(weights_metric)\n",
    "weight_mean = mean(weights_metric)\n",
    "weight_median = median(weights_metric)\n",
    "weight_stdev = stdev(weights_metric)\n",
    "\n",
    "# Display the results\n",
    "print(f\"Min Weight: {weight_min} kg\")\n",
    "print(f\"Max Weight: {weight_max} kg\")\n",
    "print(f\"Mean Weight: {weight_mean} kg\")\n",
    "print(f\"Median Weight: {weight_median} kg\")\n"
   ]
  },
  {
   "cell_type": "code",
   "execution_count": 18,
   "metadata": {},
   "outputs": [
    {
     "name": "stdout",
     "output_type": "stream",
     "text": [
      "Country: Egypt, Breed: Abyssinian, Count: 1\n",
      "Country: Greece, Breed: Aegean, Count: 1\n",
      "Country: United States, Breed: American Bobtail, Count: 1\n",
      "Country: United States, Breed: American Curl, Count: 1\n",
      "Country: United States, Breed: American Shorthair, Count: 1\n",
      "Country: United States, Breed: American Wirehair, Count: 1\n",
      "Country: United Arab Emirates, Breed: Arabian Mau, Count: 1\n",
      "Country: Australia, Breed: Australian Mist, Count: 1\n",
      "Country: United States, Breed: Balinese, Count: 1\n",
      "Country: United States, Breed: Bambino, Count: 1\n",
      "Country: United States, Breed: Bengal, Count: 1\n",
      "Country: France, Breed: Birman, Count: 1\n",
      "Country: United States, Breed: Bombay, Count: 1\n",
      "Country: United Kingdom, Breed: British Longhair, Count: 1\n",
      "Country: United Kingdom, Breed: British Shorthair, Count: 1\n",
      "Country: Burma, Breed: Burmese, Count: 1\n",
      "Country: United Kingdom, Breed: Burmilla, Count: 1\n",
      "Country: United States, Breed: California Spangled, Count: 1\n",
      "Country: United States, Breed: Chantilly-Tiffany, Count: 1\n",
      "Country: France, Breed: Chartreux, Count: 1\n",
      "Country: Egypt, Breed: Chausie, Count: 1\n",
      "Country: United States, Breed: Cheetoh, Count: 1\n",
      "Country: United States, Breed: Colorpoint Shorthair, Count: 1\n",
      "Country: United Kingdom, Breed: Cornish Rex, Count: 1\n",
      "Country: Canada, Breed: Cymric, Count: 1\n",
      "Country: Cyprus, Breed: Cyprus, Count: 1\n",
      "Country: United Kingdom, Breed: Devon Rex, Count: 1\n",
      "Country: Russia, Breed: Donskoy, Count: 1\n",
      "Country: China, Breed: Dragon Li, Count: 1\n",
      "Country: Egypt, Breed: Egyptian Mau, Count: 1\n",
      "Country: Burma, Breed: European Burmese, Count: 1\n",
      "Country: United States, Breed: Exotic Shorthair, Count: 1\n",
      "Country: United Kingdom, Breed: Havana Brown, Count: 1\n",
      "Country: United States, Breed: Himalayan, Count: 1\n",
      "Country: Japan, Breed: Japanese Bobtail, Count: 1\n",
      "Country: United States, Breed: Javanese, Count: 1\n",
      "Country: Thailand, Breed: Khao Manee, Count: 1\n",
      "Country: Thailand, Breed: Korat, Count: 1\n",
      "Country: Russia, Breed: Kurilian, Count: 1\n",
      "Country: Thailand, Breed: LaPerm, Count: 1\n",
      "Country: United States, Breed: Maine Coon, Count: 1\n",
      "Country: United Kingdom, Breed: Malayan, Count: 1\n",
      "Country: Isle of Man, Breed: Manx, Count: 1\n",
      "Country: United States, Breed: Munchkin, Count: 1\n",
      "Country: United States, Breed: Nebelung, Count: 1\n",
      "Country: Norway, Breed: Norwegian Forest Cat, Count: 1\n",
      "Country: United States, Breed: Ocicat, Count: 1\n",
      "Country: United States, Breed: Oriental, Count: 1\n",
      "Country: Iran (Persia), Breed: Persian, Count: 1\n",
      "Country: United States, Breed: Pixie-bob, Count: 1\n",
      "Country: United States, Breed: Ragamuffin, Count: 1\n",
      "Country: United States, Breed: Ragdoll, Count: 1\n",
      "Country: Russia, Breed: Russian Blue, Count: 1\n",
      "Country: United States, Breed: Savannah, Count: 1\n",
      "Country: United Kingdom, Breed: Scottish Fold, Count: 1\n",
      "Country: United States, Breed: Selkirk Rex, Count: 1\n",
      "Country: Thailand, Breed: Siamese, Count: 1\n",
      "Country: Russia, Breed: Siberian, Count: 1\n",
      "Country: Singapore, Breed: Singapura, Count: 1\n",
      "Country: United States, Breed: Snowshoe, Count: 1\n",
      "Country: Somalia, Breed: Somali, Count: 1\n",
      "Country: Canada, Breed: Sphynx, Count: 1\n",
      "Country: Canada, Breed: Tonkinese, Count: 1\n",
      "Country: United States, Breed: Toyger, Count: 1\n",
      "Country: Turkey, Breed: Turkish Angora, Count: 1\n",
      "Country: Turkey, Breed: Turkish Van, Count: 1\n",
      "Country: United States, Breed: York Chocolate, Count: 1\n"
     ]
    }
   ],
   "source": [
    "# Create a frequency table of country and breed of cats\n",
    "import requests\n",
    "import json\n",
    "\n",
    "url = 'https://api.thecatapi.com/v1/breeds'\n",
    "response = requests.get(url)\n",
    "cats_api = response.json()\n",
    "\n",
    "frequency_table = {}\n",
    "\n",
    "for cat in cats_api:\n",
    "    country = cat.get('origin', 'Unknown')\n",
    "    breed = cat['name']\n",
    "\n",
    "    key = (country, breed)\n",
    "    frequency_table[key] = frequency_table.get(key, 0) + 1\n",
    "\n",
    "for key, count in frequency_table.items():\n",
    "    country, breed = key\n",
    "    print(f\"Country: {country}, Breed: {breed}, Count: {count}\")"
   ]
  },
  {
   "cell_type": "code",
   "execution_count": null,
   "metadata": {},
   "outputs": [],
   "source": [
    "# Read the countries API and find\n",
    "# the 10 largest countries\n",
    "# the 10 most spoken languages\n",
    "# the total number of languages in the countries API\n",
    "\n",
    "import requests\n",
    "import json\n",
    "\n",
    "url = 'https://restcountries.eu/rest/v2/all'\n",
    "response = requests.get(url)\n",
    "countries_api = response.json()\n",
    "print(countries_api)"
   ]
  },
  {
   "cell_type": "code",
   "execution_count": 13,
   "metadata": {},
   "outputs": [],
   "source": [
    "# UCI is one of the most common places to get data sets for data science and machine learning. Read the content of UCL (https://archive.ics.uci.edu/ml/datasets.php). Without additional libraries it will be difficult, so you may try it with BeautifulSoup4"
   ]
  }
 ],
 "metadata": {
  "kernelspec": {
   "display_name": "Python 3",
   "language": "python",
   "name": "python3"
  },
  "language_info": {
   "codemirror_mode": {
    "name": "ipython",
    "version": 3
   },
   "file_extension": ".py",
   "mimetype": "text/x-python",
   "name": "python",
   "nbconvert_exporter": "python",
   "pygments_lexer": "ipython3",
   "version": "3.11.4"
  }
 },
 "nbformat": 4,
 "nbformat_minor": 2
}
