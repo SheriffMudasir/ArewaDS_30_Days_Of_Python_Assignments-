{
 "cells": [
  {
   "cell_type": "markdown",
   "metadata": {},
   "source": [
    "#  Exercises: Day 22"
   ]
  },
  {
   "cell_type": "code",
   "execution_count": 17,
   "metadata": {},
   "outputs": [],
   "source": [
    "import requests\n",
    "from bs4 import BeautifulSoup\n",
    "import json"
   ]
  },
  {
   "cell_type": "code",
   "execution_count": 30,
   "metadata": {},
   "outputs": [
    {
     "name": "stdout",
     "output_type": "stream",
     "text": [
      "{\n",
      "  \"paragraph\": [\n",
      "    \"A quick, by-the-numbers overview of Boston University and our community for fiscal year 2023.\",\n",
      "    \"Student Body\",\n",
      "    \"Living Alumni\",\n",
      "    \"Total Employees\",\n",
      "    \"Faculty\",\n",
      "    \"Nondegree Students\",\n",
      "    \"Graduate & Professional Students\",\n",
      "    \"Undergraduate Students\",\n",
      "    \"Classrooms\",\n",
      "    \"Buildings\",\n",
      "    \"Laboratories\",\n",
      "    \"Libraries\",\n",
      "    \"Campus Area (acres)\",\n",
      "    \"Study Abroad Programs\",\n",
      "    \"Average Class Size\",\n",
      "    \"Faculty\",\n",
      "    \"Student/Faculty Ratio\",\n",
      "    \"Schools and Colleges\",\n",
      "    \"Programs of Study\",\n",
      "    \"Research Expenditures\",\n",
      "    \"Sponsored Research Awards\",\n",
      "    \"BMC Clinical Research Grants (FY22)\",\n",
      "    \"Average Total Need-Based Financial Aid\",\n",
      "    \"Average Need-Based Grant/Scholarship\",\n",
      "    \"Grants & Scholarships (need-based)\",\n",
      "    \"Grants & Scholarships (non-need-based)\",\n",
      "    \"Community Service Hours\",\n",
      "    \"BU on Social\",\n",
      "    \"Cultural & Religious Organizations\",\n",
      "    \"Community Service & Justice Organizations\",\n",
      "    \"Academic & Professional Organizations\",\n",
      "    \"Art & Performance Organizations\",\n",
      "    \"Student Organizations\",\n",
      "    \"First-Year Student Outreach Project Volunteers\",\n",
      "    \"Faculty Publications\",\n",
      "    \"Student UROP Participants\",\n",
      "    \"Centers & Institutes\",\n",
      "    \"Global Initiatives\",\n",
      "    \"Cultural Student Groups\",\n",
      "    \"Alumni Countries\",\n",
      "    \"International Students\",\n",
      "    \"Intramural Sports & Tournaments\",\n",
      "    \"Club Sports\",\n",
      "    \"Varsity Sports\",\n",
      "    \"December 15, 2023\",\n",
      "    \"December 7, 2023\",\n",
      "    \"November 28, 2023\"\n",
      "  ]\n",
      "}\n"
     ]
    }
   ],
   "source": [
    "# Scrape the following website and store the data as json file(url = 'http://www.bu.edu/president/boston-university-facts-stats/').\n",
    "\n",
    "url = 'http://www.bu.edu/president/boston-university-facts-stats/'\n",
    "\n",
    "response = requests.get(url)\n",
    "status = response.status_code\n",
    "\n",
    "content = response.content\n",
    "soup = BeautifulSoup(content, 'html.parser')\n",
    "    \n",
    "paragraphs = [p.get_text(strip=True) for p in soup.find_all('p')]\n",
    "\n",
    "dict_data = {\"paragraph\" : paragraphs}\n",
    "json_string = json.dumps(dict_data, indent=2)\n",
    "print(json_string)\n",
    "    \n",
    "\n",
    "\n",
    "\n",
    "\n"
   ]
  },
  {
   "cell_type": "code",
   "execution_count": 32,
   "metadata": {},
   "outputs": [
    {
     "name": "stdout",
     "output_type": "stream",
     "text": [
      "Unable to extract data. Status code: 404\n"
     ]
    }
   ],
   "source": [
    "# Extract the table in this url (https://archive.ics.uci.edu/ml/datasets.php) and change it to a json file\n",
    "url = \"https://archive.ics.uci.edu/ml/datasets.php\"\n",
    "response = requests.get(url)\n",
    "status = response.status_code\n",
    "\n",
    "if status == 200:\n",
    "    content = response.content\n",
    "    soup = BeautifulSoup(content, 'html.parser')\n",
    "    tables = soup.find_all('table')\n",
    "\n",
    "    data_dict = {}\n",
    "\n",
    "    for i, table in enumerate(tables):\n",
    "        data_dict[f'table{i+1}'] = str(table)\n",
    "\n",
    "    json_string = json.dumps(data_dict, indent=2)\n",
    "\n",
    "    print(json_string)\n",
    "else:\n",
    "    print(f\"Unable to extract data. Status code: {status}\")"
   ]
  },
  {
   "cell_type": "code",
   "execution_count": 48,
   "metadata": {},
   "outputs": [
    {
     "name": "stdout",
     "output_type": "stream",
     "text": [
      "[\n",
      "  \"George Washington(1732\\u20131799)[17]\",\n",
      "  \"John Adams(1735\\u20131826)[19]\",\n",
      "  \"Thomas Jefferson(1743\\u20131826)[21]\",\n",
      "  \"James Madison(1751\\u20131836)[22]\",\n",
      "  \"James Monroe(1758\\u20131831)[24]\",\n",
      "  \"John Quincy Adams(1767\\u20131848)[25]\",\n",
      "  \"Andrew Jackson(1767\\u20131845)[28]\",\n",
      "  \"Martin Van Buren(1782\\u20131862)[29]\",\n",
      "  \"William Henry Harrison(1773\\u20131841)[30]\",\n",
      "  \"John Tyler(1790\\u20131862)[31]\",\n",
      "  \"James K. Polk(1795\\u20131849)[34]\",\n",
      "  \"Zachary Taylor(1784\\u20131850)[35]\",\n",
      "  \"Millard Fillmore(1800\\u20131874)[36]\",\n",
      "  \"Franklin Pierce(1804\\u20131869)[38]\",\n",
      "  \"James Buchanan(1791\\u20131868)[39]\",\n",
      "  \"Abraham Lincoln(1809\\u20131865)[40]\",\n",
      "  \"Andrew Johnson(1808\\u20131875)[42]\",\n",
      "  \"Ulysses S. Grant(1822\\u20131885)[43]\",\n",
      "  \"Rutherford B. Hayes(1822\\u20131893)[44]\",\n",
      "  \"James A. Garfield(1831\\u20131881)[45]\",\n",
      "  \"Chester A. Arthur(1829\\u20131886)[46]\",\n",
      "  \"Grover Cleveland(1837\\u20131908)[48]\",\n",
      "  \"Benjamin Harrison(1833\\u20131901)[49]\",\n",
      "  \"Grover Cleveland(1837\\u20131908)[48]\",\n",
      "  \"William McKinley(1843\\u20131901)[50]\",\n",
      "  \"Theodore Roosevelt(1858\\u20131919)[51]\",\n",
      "  \"William Howard Taft(1857\\u20131930)[53]\",\n",
      "  \"Woodrow Wilson(1856\\u20131924)[54]\",\n",
      "  \"Warren G. Harding(1865\\u20131923)[55]\",\n",
      "  \"Calvin Coolidge(1872\\u20131933)[56]\",\n",
      "  \"Herbert Hoover(1874\\u20131964)[58]\",\n",
      "  \"Franklin D. Roosevelt(1882\\u20131945)[59]\",\n",
      "  \"Harry S. Truman(1884\\u20131972)[60]\",\n",
      "  \"Dwight D. Eisenhower(1890\\u20131969)[62]\",\n",
      "  \"John F. Kennedy(1917\\u20131963)[63]\",\n",
      "  \"Lyndon B. Johnson(1908\\u20131973)[64]\",\n",
      "  \"Richard Nixon(1913\\u20131994)[66]\",\n",
      "  \"Gerald Ford(1913\\u20132006)[67]\",\n",
      "  \"Jimmy Carter(b. 1924)[68]\",\n",
      "  \"Ronald Reagan(1911\\u20132004)[69]\",\n",
      "  \"George H. W. Bush(1924\\u20132018)[70]\",\n",
      "  \"Bill Clinton(b. 1946)[71]\",\n",
      "  \"George W. Bush(b. 1946)[72]\",\n",
      "  \"Barack Obama(b. 1961)[73]\",\n",
      "  \"Donald Trump(b. 1946)[74]\",\n",
      "  \"Joe Biden(b. 1942)[6]\"\n",
      "]\n"
     ]
    }
   ],
   "source": [
    "import requests\n",
    "from bs4 import BeautifulSoup\n",
    "import json\n",
    "\n",
    "url = 'https://en.wikipedia.org/wiki/List_of_presidents_of_the_United_States'\n",
    "response = requests.get(url)\n",
    "status = response.status_code\n",
    "\n",
    "if status == 200:\n",
    "    content = response.content\n",
    "    soup = BeautifulSoup(content, 'html.parser')\n",
    "\n",
    "    # Identify the table that contains the list of U.S. presidents\n",
    "    tables = soup.find_all('table', {'class': 'wikitable'})\n",
    "\n",
    "    # Assuming the first table (index 0) contains the presidents' data\n",
    "    if tables:\n",
    "        table = tables[0]\n",
    "\n",
    "        table_data = []\n",
    "\n",
    "        for tr in table.find_all('tr')[1:]:  # Skip the header row\n",
    "            row_data = [td.text.strip() for td in tr.find_all(['td', 'th'])]\n",
    "            table_data.append(row_data[2])\n",
    "\n",
    "        # Convert the table data to a JSON-formatted string\n",
    "        json_string = json.dumps(table_data, indent=2)\n",
    "        print(json_string)\n",
    "\n",
    "else:\n",
    "    print(f\"Unable to extract data. Status code: {status}\")"
   ]
  }
 ],
 "metadata": {
  "kernelspec": {
   "display_name": "Python 3",
   "language": "python",
   "name": "python3"
  },
  "language_info": {
   "codemirror_mode": {
    "name": "ipython",
    "version": 3
   },
   "file_extension": ".py",
   "mimetype": "text/x-python",
   "name": "python",
   "nbconvert_exporter": "python",
   "pygments_lexer": "ipython3",
   "version": "3.11.4"
  }
 },
 "nbformat": 4,
 "nbformat_minor": 2
}
