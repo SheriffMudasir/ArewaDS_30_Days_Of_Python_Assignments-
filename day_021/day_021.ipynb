{
 "cells": [
  {
   "cell_type": "markdown",
   "metadata": {},
   "source": [
    "# Exercises: Day 21"
   ]
  },
  {
   "cell_type": "markdown",
   "metadata": {},
   "source": [
    "## Exercises: Level 1"
   ]
  },
  {
   "cell_type": "code",
   "execution_count": 4,
   "metadata": {},
   "outputs": [
    {
     "name": "stdout",
     "output_type": "stream",
     "text": [
      "Count: 25\n",
      "Sum:  744\n",
      "Min:  24\n",
      "Max:  38\n",
      "Range:  14\n",
      "Mean:  29.76\n",
      "Median:  29\n",
      "Mode:  26\n",
      "Standard Deviation:  4.2747319604079665\n",
      "Variance:  18.273333333333333\n",
      "Frequency Distribution:  [(5, 26), (4, 27), (3, 32), (2, 37), (2, 34), (2, 33), (2, 31), (2, 24), (1, 38), (1, 29), (1, 25)]\n"
     ]
    }
   ],
   "source": [
    "# Python has the module called statistics and we can use this module to do all the statistical calculations. However, to learn how to make function and reuse function let us try to develop a program, which calculates the measure of central tendency of a sample (mean, median, mode) and measure of variability (range, variance, standard deviation). In addition to those measures, find the min, max, count, percentile, and frequency distribution of the sample. You can create a class called Statistics and create all the functions that do statistical calculations as methods for the Statistics class. Check the output below.\n",
    "import statistics\n",
    "ages = [31, 26, 34, 37, 27, 26, 32, 32, 26, 27, 27, 24,\n",
    "        32, 33, 27, 25, 26, 38, 37, 31, 34, 24, 33, 29, 26]\n",
    "\n",
    "class Statistics:\n",
    "    def __init__(self, val):\n",
    "        self.val = val\n",
    "    \n",
    "    def count(self):\n",
    "        return len(self.val)\n",
    "    \n",
    "    def mean(self):\n",
    "        return statistics.mean(self.val)\n",
    "    \n",
    "    def median(self):\n",
    "        return statistics.median(self.val)\n",
    "    \n",
    "    def mode(self):\n",
    "        return statistics.mode(self.val)\n",
    "    \n",
    "    def max(self):\n",
    "        return max(self.val)\n",
    "    \n",
    "    def min(self):\n",
    "        return min(self.val)\n",
    "    \n",
    "    def sum(self):\n",
    "        return sum(self.val)\n",
    "    \n",
    "    def std(self):\n",
    "        return statistics.stdev(self.val)\n",
    "    def var(self):\n",
    "        return statistics.variance(self.val)\n",
    "    \n",
    "    def freq_dist(self):\n",
    "        from collections import Counter\n",
    "        counts = Counter(self.val)\n",
    "        freq_dist = [(count, value) for value, count in counts.items()]\n",
    "        return sorted(freq_dist, reverse=True)\n",
    "    \n",
    "    def range(self):\n",
    "        return max(self.val) - min(self.val)\n",
    "    \n",
    "    \n",
    "data = Statistics(ages)\n",
    "\n",
    "print('Count:', data.count())\n",
    "print('Sum: ', data.sum())\n",
    "print('Min: ', data.min())\n",
    "print('Max: ', data.max())\n",
    "print('Range: ', data.range())\n",
    "print('Mean: ', data.mean())\n",
    "print('Median: ', data.median())\n",
    "print('Mode: ', data.mode())\n",
    "print('Standard Deviation: ', data.std())\n",
    "print('Variance: ', data.var())\n",
    "print('Frequency Distribution: ', data.freq_dist())"
   ]
  },
  {
   "cell_type": "markdown",
   "metadata": {},
   "source": [
    "### Exercises: Level 2"
   ]
  },
  {
   "cell_type": "code",
   "execution_count": 13,
   "metadata": {},
   "outputs": [
    {
     "name": "stdout",
     "output_type": "stream",
     "text": [
      "Account name: John Doe\n",
      "Incomes: {'Salary': 5000, 'Freelance': 1000}\n",
      "Expenses: {'Rent': 1200, 'Utilities': 200}\n",
      "Total Income: 6000\n",
      "Total Expense: 1400\n",
      "Account Balance: 4600\n",
      "\n",
      " Add a new income and expense\n",
      "\n",
      "Display Updated Information\n",
      "Account name: John Doe\n",
      "Incomes: {'Salary': 5000, 'Freelance': 1000, 'Gift': 150}\n",
      "Expenses: {'Rent': 1200, 'Utilities': 200, 'Grant': 1000}\n",
      "Total Income: 6150\n",
      "Total Expense: 2400\n",
      "Account Balance: 3750\n"
     ]
    }
   ],
   "source": [
    "# Create a class called PersonAccount. It has firstname, lastname, incomes, expenses properties and it has total_income, total_expense, account_info, add_income, add_expense and account_balance methods. Incomes is a set of incomes and its description. The same goes for expenses.\n",
    "class PersonAccount:\n",
    "    def __init__(self, firstname, lastname, incomes=None, expenses=None):\n",
    "        self.firstname = firstname\n",
    "        self.lastname = lastname\n",
    "        self.incomes = incomes if incomes is not None else []\n",
    "        self.expenses = expenses if expenses is not None else []\n",
    "    def total_income(self):\n",
    "        return sum(self.incomes.values())\n",
    "\n",
    "    def total_expense(self):\n",
    "        return sum(self.expenses.values())\n",
    "\n",
    "    def account_info(self):\n",
    "        print(f\"Account name: {self.firstname} {self.lastname}\")\n",
    "        print(f\"Incomes: {self.incomes}\")\n",
    "        print(f\"Expenses: {self.expenses}\")\n",
    "\n",
    "    def add_income(self, description, amount):\n",
    "        self.expenses[description] = amount\n",
    "\n",
    "    def add_expense(self, description, amount):\n",
    "        self.incomes[description] = amount\n",
    "\n",
    "    def account_balance(self):\n",
    "        return self.total_income() - self.total_expense()\n",
    "\n",
    "\n",
    "\n",
    "person = PersonAccount(\"John\", \"Doe\", incomes={\n",
    "                       \"Salary\": 5000, \"Freelance\": 1000}, expenses={\"Rent\": 1200, \"Utilities\": 200})\n",
    "person.account_info()\n",
    "print(\"Total Income:\", person.total_income())\n",
    "print(\"Total Expense:\", person.total_expense())\n",
    "print(\"Account Balance:\", person.account_balance())\n",
    "print()\n",
    "print(f\" Add a new income and expense\")\n",
    "person.add_income(\"Grant\", 1000)\n",
    "person.add_expense(\"Gift\", 150)\n",
    "print()\n",
    "print(f\"Display Updated Information\") \n",
    "person.account_info()\n",
    "print(\"Total Income:\", person.total_income())\n",
    "print(\"Total Expense:\", person.total_expense())\n",
    "print(\"Account Balance:\", person.account_balance())"
   ]
  }
 ],
 "metadata": {
  "kernelspec": {
   "display_name": "environ",
   "language": "python",
   "name": "python3"
  },
  "language_info": {
   "codemirror_mode": {
    "name": "ipython",
    "version": 3
   },
   "file_extension": ".py",
   "mimetype": "text/x-python",
   "name": "python",
   "nbconvert_exporter": "python",
   "pygments_lexer": "ipython3",
   "version": "3.11.4"
  }
 },
 "nbformat": 4,
 "nbformat_minor": 2
}
