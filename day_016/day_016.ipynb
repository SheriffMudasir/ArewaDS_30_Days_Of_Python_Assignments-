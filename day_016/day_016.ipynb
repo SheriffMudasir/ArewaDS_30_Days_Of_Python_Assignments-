{
 "cells": [
  {
   "cell_type": "markdown",
   "metadata": {},
   "source": [
    "# Exercises: Day 16"
   ]
  },
  {
   "cell_type": "code",
   "execution_count": 43,
   "metadata": {},
   "outputs": [
    {
     "name": "stdout",
     "output_type": "stream",
     "text": [
      "The current day is 18\n",
      "The current month is 12\n",
      "The current year is 2023\n",
      "The current hour is 15\n",
      "The current minute is 15\n",
      "The current timestape is 1702908953.206398\n"
     ]
    }
   ],
   "source": [
    "# Get the current day, month, year, hour, minute and timestamp from datetime module\n",
    "from datetime import datetime\n",
    "now = datetime.now()\n",
    "day = now.day\n",
    "month = now.month\n",
    "year = now.year\n",
    "hour = now.hour\n",
    "minute = now.minute\n",
    "timestamp = now.timestamp()\n",
    "print(f\"The current day is {day}\")\n",
    "print(f\"The current month is {month}\")\n",
    "print(f\"The current year is {year}\")\n",
    "print(f\"The current hour is {hour}\")\n",
    "print(f\"The current minute is {minute}\")\n",
    "print(f\"The current timestape is {timestamp}\")"
   ]
  },
  {
   "cell_type": "code",
   "execution_count": 45,
   "metadata": {},
   "outputs": [
    {
     "name": "stdout",
     "output_type": "stream",
     "text": [
      "Current time is 12/18/2023, 15:20:19\n"
     ]
    }
   ],
   "source": [
    "# Format the current date using this format: \"%m/%d/%Y, %H:%M:%S\")\n",
    "from datetime import datetime\n",
    "now = datetime.now()\n",
    "current_time = now.strftime(\"%m/%d/%Y, %H:%M:%S\")\n",
    "print(f\"Current time is {current_time}\")"
   ]
  },
  {
   "cell_type": "code",
   "execution_count": 48,
   "metadata": {},
   "outputs": [
    {
     "name": "stdout",
     "output_type": "stream",
     "text": [
      "Today's date is 2019-12-05\n"
     ]
    }
   ],
   "source": [
    "# Today is 5 December, 2019. Change this time string to time.\n",
    "from datetime import date\n",
    "today = date(year=2019, month=12, day=5)\n",
    "print(f\"Today's date is {today}\")"
   ]
  },
  {
   "cell_type": "code",
   "execution_count": 51,
   "metadata": {},
   "outputs": [
    {
     "name": "stdout",
     "output_type": "stream",
     "text": [
      "14 days, 0:00:00\n"
     ]
    }
   ],
   "source": [
    "# Calculate the time difference between now and new year.\n",
    "from datetime import date, time\n",
    "now = date(year=2023, month=12, day=18)\n",
    "new_year = date(year=2024, month=1, day=1)\n",
    "time_diff = new_year - now\n",
    "print(time_diff)"
   ]
  },
  {
   "cell_type": "code",
   "execution_count": 54,
   "metadata": {},
   "outputs": [
    {
     "name": "stdout",
     "output_type": "stream",
     "text": [
      "19709 days, 0:00:00\n"
     ]
    }
   ],
   "source": [
    "# Calculate the time difference between 1 January 1970 and now.\n",
    "before = date(year=1970, month=1, day=1)\n",
    "now = date(year=2023, month=12, day=18)\n",
    "time_diff = now - before\n",
    "print(time_diff)"
   ]
  },
  {
   "cell_type": "code",
   "execution_count": 77,
   "metadata": {},
   "outputs": [
    {
     "name": "stdout",
     "output_type": "stream",
     "text": [
      "Time series for the next 30 days of python challenge\n",
      "2023-12-18\n",
      "2023-12-19\n",
      "2023-12-20\n",
      "2023-12-21\n",
      "2023-12-22\n",
      "2023-12-23\n",
      "2023-12-24\n",
      "2023-12-25\n",
      "2023-12-26\n",
      "2023-12-27\n",
      "2023-12-28\n",
      "2023-12-29\n",
      "2023-12-30\n",
      "2023-12-31\n",
      "2024-01-01\n",
      "2024-01-02\n",
      "2024-01-03\n",
      "2024-01-04\n",
      "2024-01-05\n",
      "2024-01-06\n"
     ]
    }
   ],
   "source": [
    "# Think, what can you use the datetime module for? Examples:\n",
    "# Time series analysis\n",
    "from datetime import datetime, timedelta\n",
    "\n",
    "start_date = datetime.now()\n",
    "time_series = [start_date + timedelta(days=i) for i in range(20)]\n",
    "print(f\"Time series for the next 30 days of python challenge\")\n",
    "for date in time_series:\n",
    "    print(date.strftime(\"%Y-%m-%d\"))"
   ]
  },
  {
   "cell_type": "code",
   "execution_count": 76,
   "metadata": {},
   "outputs": [
    {
     "name": "stdout",
     "output_type": "stream",
     "text": [
      "FaceBook Post\n",
      "Today is my birthday, help me celebrate\n",
      "Time Posted: 2023-12-18 16:04:29.660141\n"
     ]
    }
   ],
   "source": [
    "#To get a timestamp of any activities in an application\n",
    "\n",
    "from datetime import datetime\n",
    "timestamp = datetime.now()\n",
    "print(\"FaceBook Post\")\n",
    "print(f\"Today is my birthday, help me celebrate\")\n",
    "\n",
    "print(f\"Time Posted: {timestamp}\")"
   ]
  },
  {
   "cell_type": "code",
   "execution_count": 75,
   "metadata": {},
   "outputs": [
    {
     "name": "stdout",
     "output_type": "stream",
     "text": [
      "News Blog Post\n",
      "title : Breaking News\n",
      "content : President Ahmad Bola Tinubu appoint new ministers\n",
      "time_posted : 2023-12-18 16:02:05.023901\n"
     ]
    }
   ],
   "source": [
    "# Adding posts on a blog\n",
    "from datetime import datetime\n",
    "\n",
    "post_title = \"Breaking News\"\n",
    "post_content = \"President Ahmad Bola Tinubu appoint new ministers...\"\n",
    "\n",
    "timestamp = datetime.now()\n",
    "\n",
    "post = {\n",
    "    \"title\": post_title,\n",
    "    \"content\": post_content,\n",
    "    \"time_posted\": timestamp\n",
    "}\n",
    "print(\"News Blog Post\")\n",
    "\n",
    "for key, value in post.items():\n",
    "        print(f\"{key} : {value}\")"
   ]
  }
 ],
 "metadata": {
  "kernelspec": {
   "display_name": "environ",
   "language": "python",
   "name": "python3"
  },
  "language_info": {
   "codemirror_mode": {
    "name": "ipython",
    "version": 3
   },
   "file_extension": ".py",
   "mimetype": "text/x-python",
   "name": "python",
   "nbconvert_exporter": "python",
   "pygments_lexer": "ipython3",
   "version": "3.11.4"
  }
 },
 "nbformat": 4,
 "nbformat_minor": 2
}
