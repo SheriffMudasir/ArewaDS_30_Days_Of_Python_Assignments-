{
 "cells": [
  {
   "cell_type": "markdown",
   "metadata": {},
   "source": [
    "# Exercises: Day 18"
   ]
  },
  {
   "cell_type": "markdown",
   "metadata": {},
   "source": [
    "## Exercises: Level 1"
   ]
  },
  {
   "cell_type": "code",
   "execution_count": 4,
   "metadata": {},
   "outputs": [],
   "source": [
    "import re"
   ]
  },
  {
   "cell_type": "code",
   "execution_count": 11,
   "metadata": {},
   "outputs": [
    {
     "name": "stdout",
     "output_type": "stream",
     "text": [
      "[('you', 5), ('love', 4), ('can', 3), ('I', 2), ('do', 2), ('not', 2), ('what', 2), ('else', 2), ('love.', 2), ('teaching.', 1), ('If', 1), ('teaching', 1), ('Python', 1), ('if', 1), ('something', 1), ('which', 1), ('give', 1), ('all', 1), ('the', 1), ('capabilities', 1), ('to', 1), ('develop', 1), ('an', 1), ('application', 1)]\n"
     ]
    }
   ],
   "source": [
    "# What is the most frequent word in the following paragraph?\n",
    "from collections import  Counter\n",
    "paragraph = 'I love teaching. If you do not love teaching what else can you love. I love Python if you do not love something which can give you all the capabilities to develop an application what else can you love.'\n",
    "\n",
    "list_all = re.split(' ', paragraph)\n",
    "list_all = Counter(list_all)\n",
    "count_list = list_all.most_common()\n",
    "print(count_list)"
   ]
  },
  {
   "cell_type": "code",
   "execution_count": 30,
   "metadata": {},
   "outputs": [
    {
     "name": "stdout",
     "output_type": "stream",
     "text": [
      "['-12', '-4', '-3', '-1', '0', '4', '8']\n",
      "20\n"
     ]
    }
   ],
   "source": [
    "#  Extract these numbers from this whole text and find the distance between the two furthest particles.\n",
    "position = 'The position of some particles on the horizontal x-axis are -12, -4, -3 and -1 in the negative direction, 0 at origin, 4 and 8 in the positive direction.'\n",
    "regex_pattern = r'[-]\\d\\d|[-]\\d|\\d|\\dd'\n",
    "matches = re.findall(regex_pattern,position)\n",
    "print(matches)\n",
    "sorted_point = matches\n",
    "print(int(sorted_point[len(sorted_point) - 1]) - int(sorted_point[0]))"
   ]
  },
  {
   "cell_type": "markdown",
   "metadata": {},
   "source": [
    "## Exercises: Level 2"
   ]
  },
  {
   "cell_type": "code",
   "execution_count": 58,
   "metadata": {},
   "outputs": [
    {
     "name": "stdout",
     "output_type": "stream",
     "text": [
      "True\n",
      "False\n",
      "False\n",
      "True\n"
     ]
    }
   ],
   "source": [
    "# Write a pattern which identifies if a string is a valid python variable\n",
    "def is_valid_variable(variable_name):\n",
    "        matches = re.match(r'^[a-zA-Z_][a-zA-Z0-9_]*$', variable_name)\n",
    "        if matches:\n",
    "                return True\n",
    "        else:\n",
    "                return False\n",
    "\n",
    "\n",
    "print(is_valid_variable('first_name'))    # True\n",
    "print(is_valid_variable('first-name'))    # False\n",
    "print(is_valid_variable('1first_name'))   # False\n",
    "print(is_valid_variable('firstname'))     # True"
   ]
  },
  {
   "cell_type": "markdown",
   "metadata": {},
   "source": [
    "## Exercises: Level 3"
   ]
  },
  {
   "cell_type": "code",
   "execution_count": 60,
   "metadata": {},
   "outputs": [
    {
     "name": "stdout",
     "output_type": "stream",
     "text": [
      "I am a teacher, and I love teaching. There is nothing as more rewarding as educating and empowering people. I found teaching more interesting than any other jobs. Does this motivate you to be a teacher!?\n",
      "[('I', 3), ('a', 2), ('and', 2), ('as', 2), ('more', 2), ('am', 1), ('teacher,', 1), ('love', 1), ('teaching.', 1), ('There', 1), ('is', 1), ('nothing', 1), ('rewarding', 1), ('educating', 1), ('empowering', 1), ('people.', 1), ('found', 1), ('teaching', 1), ('interesting', 1), ('than', 1), ('any', 1), ('other', 1), ('jobs.', 1), ('Does', 1), ('this', 1), ('motivate', 1), ('you', 1), ('to', 1), ('be', 1), ('teacher!?', 1)]\n"
     ]
    }
   ],
   "source": [
    "# Clean the following text. After cleaning, count three most frequent words in the string.\n",
    "import re\n",
    "from collections import Counter\n",
    "\n",
    "\n",
    "def clean_text(sentence):\n",
    "    cleaned_text = re.sub(r'[%$#@&^;]', '', sentence)\n",
    "    cleaned_text = re.sub(r'\\s+', ' ', cleaned_text)\n",
    "\n",
    "    cleaned_text = cleaned_text.strip()\n",
    "    return cleaned_text\n",
    "\n",
    "\n",
    "def most_frequent_words(text):\n",
    "    words = text.split()\n",
    "    word_counter = Counter(words)\n",
    "    most_common_words = word_counter.most_common()\n",
    "    return most_common_words\n",
    "\n",
    "sentence = '''%I $am@% a %tea@cher%, &and& I lo%#ve %tea@ching%;. There $is nothing; &as& mo@re rewarding as educa@ting &and& @emp%o@wering peo@ple. ;I found tea@ching m%o@re interesting tha@n any other %jo@bs. %Do@es thi%s mo@tivate yo@u to be a tea@cher!?'''\n",
    "\n",
    "cleaned_text = clean_text(sentence)\n",
    "print(cleaned_text)\n",
    "\n",
    "print(most_frequent_words(cleaned_text))"
   ]
  }
 ],
 "metadata": {
  "kernelspec": {
   "display_name": "environ",
   "language": "python",
   "name": "python3"
  },
  "language_info": {
   "codemirror_mode": {
    "name": "ipython",
    "version": 3
   },
   "file_extension": ".py",
   "mimetype": "text/x-python",
   "name": "python",
   "nbconvert_exporter": "python",
   "pygments_lexer": "ipython3",
   "version": "3.11.4"
  }
 },
 "nbformat": 4,
 "nbformat_minor": 2
}
