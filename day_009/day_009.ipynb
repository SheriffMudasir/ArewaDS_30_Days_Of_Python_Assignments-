{
 "cells": [
  {
   "cell_type": "markdown",
   "metadata": {},
   "source": [
    "#  Exercises: Day 9"
   ]
  },
  {
   "cell_type": "markdown",
   "metadata": {},
   "source": [
    "### Exercises: Level 1"
   ]
  },
  {
   "cell_type": "code",
   "execution_count": 1,
   "metadata": {},
   "outputs": [
    {
     "name": "stdout",
     "output_type": "stream",
     "text": [
      "You are old enough to learn to drive.\n"
     ]
    }
   ],
   "source": [
    "# Get user input using input(“Enter your age: ”). If user is 18 or older, give feedback: You are old enough to drive. If below 18 give feedback to wait for the missing amount of years.\n",
    "age = int(input(\"Enter your age: \"))\n",
    "if age >= 18:\n",
    "        print(\"You are old enough to learn to drive.\")\n",
    "else:\n",
    "        remain = 18 - age\n",
    "        print(f\"You need {remain} more years to learn to drive.\")"
   ]
  },
  {
   "cell_type": "code",
   "execution_count": 2,
   "metadata": {},
   "outputs": [
    {
     "name": "stdout",
     "output_type": "stream",
     "text": [
      "You are 8 years older than me.\n"
     ]
    }
   ],
   "source": [
    "# Compare the values of my_age and your_age using if … else. Who is older (me or you)? Use input(“Enter your age: ”) to get the age as input. You can use a nested condition to print 'year' for 1 year difference in age, 'years' for bigger differences, and a custom text if my_age = your_age\n",
    "my_age = 25\n",
    "your_age = int(input(\"Enter your age\"))\n",
    "if your_age > my_age:\n",
    "        age_diff = your_age - my_age\n",
    "        if age_diff == 1:\n",
    "                print(f\"You are a year older than me.\")\n",
    "        else:\n",
    "                print(f\"You are {age_diff} years older than me.\")\n",
    "elif my_age > your_age:\n",
    "        age_deff = my_age - your_age\n",
    "        if age_deff == 1:\n",
    "                print(f\"I am a year older than you\")\n",
    "        else:\n",
    "                print(f\"I am {age_deff} older than you\")\n",
    "else:\n",
    "        print(\"We are same years old\")\n"
   ]
  },
  {
   "cell_type": "code",
   "execution_count": 3,
   "metadata": {},
   "outputs": [
    {
     "name": "stdout",
     "output_type": "stream",
     "text": [
      "32 is greater than 23\n"
     ]
    }
   ],
   "source": [
    "# Get two numbers from the user using input prompt. If a is greater than b return a is greater than b, if a is less b return a is smaller than b, else a is equal to b\n",
    "a = int(input('Enter number one: '))\n",
    "b = int(input (\"Enter number two: \"))\n",
    "if a > b:\n",
    "        print(f\"{a} is greater than {b}\")\n",
    "elif a < b:\n",
    "        print(f\"{b} is greater than {a}\")\n",
    "else:\n",
    "        print(f\"{a} is equal to {b}\")"
   ]
  },
  {
   "cell_type": "markdown",
   "metadata": {},
   "source": [
    "### Exercises: Level 2"
   ]
  },
  {
   "cell_type": "code",
   "execution_count": 4,
   "metadata": {},
   "outputs": [
    {
     "name": "stdout",
     "output_type": "stream",
     "text": [
      "Grade: C\n"
     ]
    }
   ],
   "source": [
    "# Write a code which gives grade to students according to theirs scores:\n",
    "score = int(input(\"Enter the score: \"))\n",
    "if score <= 49:\n",
    "        print(f\"Grade: F\")\n",
    "elif score >= 50 and score <= 59:\n",
    "        print(f\"Grade: D\")\n",
    "elif score >= 60 and score <= 69:\n",
    "    print(f\"Grade: C\")\n",
    "elif score >= 70 and score <= 89:\n",
    "    print(f\"Grade: B\")\n",
    "elif score >= 80 and score <= 100:\n",
    "    print(f\"Grade: D\")\n",
    "else:\n",
    "      print(\"Score must fall between 0 and 100\")"
   ]
  },
  {
   "cell_type": "code",
   "execution_count": 5,
   "metadata": {},
   "outputs": [
    {
     "name": "stdout",
     "output_type": "stream",
     "text": [
      "The season is Spring\n"
     ]
    }
   ],
   "source": [
    "# Check if the season is Autumn, Winter, Spring or Summer. If the user input is: September, October or November, the season is Autumn. December, January or February, the season is Winter. March, April or May, the season is Spring June, July or August, the season is Summer\n",
    "months_1 = ['September', 'October', 'November']\n",
    "months_2 = ['December', 'January', 'February']\n",
    "months_3 = ['March', 'April', 'May']\n",
    "months_4 = ['June', 'July', 'August']\n",
    "seasons = input(\"Enter the month of choice\")\n",
    "if seasons in months_1:\n",
    "        print(\"The season is Autumn\")\n",
    "elif seasons in months_2:\n",
    "        print(\"The season is Winter\")\n",
    "elif seasons in months_3:\n",
    "        print(\"The season is Spring\")\n",
    "elif seasons in months_4:\n",
    "        print(\"The season is Summer\")\n",
    "else:\n",
    "        print(\"Enter a valid month, first letter of the month must be capitalize\")"
   ]
  },
  {
   "cell_type": "code",
   "execution_count": 6,
   "metadata": {},
   "outputs": [
    {
     "name": "stdout",
     "output_type": "stream",
     "text": [
      "['banana', 'orange', 'mango', 'lemon', 'pawpaw']\n"
     ]
    }
   ],
   "source": [
    "# If a fruit doesn't exist in the list add the fruit to the list and print the modified list. If the fruit exists print('That fruit already exist in the list')\n",
    "fruits = ['banana', 'orange', 'mango', 'lemon']\n",
    "choice = input(\"Enter your fruit of choice: \")\n",
    "if choice in fruits:\n",
    "        print(\"That fruit already exist in the list\")\n",
    "else:\n",
    "        fruits.append(choice)\n",
    "        print(fruits)"
   ]
  },
  {
   "cell_type": "markdown",
   "metadata": {},
   "source": [
    "# Exercises: Level 3"
   ]
  },
  {
   "cell_type": "code",
   "execution_count": 7,
   "metadata": {},
   "outputs": [],
   "source": [
    "# Here we have a person dictionary. Feel free to modify it!\n",
    "person = {\n",
    "    'first_name': 'Asabeneh',\n",
    "    'last_name': 'Yetayeh',\n",
    "    'age': 250,\n",
    "    'country': 'Finland',\n",
    "    'is_marred': True,\n",
    "    'skills': ['JavaScript', 'React', 'Node', 'MongoDB', 'Python'],\n",
    "    'address': {\n",
    "        'street': 'Space street',\n",
    "        'zipcode': '02210'\n",
    "    }\n",
    "}"
   ]
  },
  {
   "cell_type": "code",
   "execution_count": 8,
   "metadata": {},
   "outputs": [
    {
     "name": "stdout",
     "output_type": "stream",
     "text": [
      "Middles skill: Node\n"
     ]
    }
   ],
   "source": [
    "# Check if the person dictionary has skills key, if so print out the middle skill in the skills list.\n",
    "if \"skills\" in person:\n",
    "        person_skills = person['skills']\n",
    "        index = len(person_skills) // 2\n",
    "        print(f\"Middles skill:\", person_skills[index])\n",
    "        \n",
    "\n",
    "\n",
    "        "
   ]
  },
  {
   "cell_type": "code",
   "execution_count": 9,
   "metadata": {},
   "outputs": [
    {
     "name": "stdout",
     "output_type": "stream",
     "text": [
      "{'first_name': 'Asabeneh', 'last_name': 'Yetayeh', 'age': 250, 'country': 'Finland', 'is_marred': True, 'skills': ['JavaScript', 'React', 'Node', 'MongoDB', 'Python'], 'address': {'street': 'Space street', 'zipcode': '02210'}}\n"
     ]
    }
   ],
   "source": [
    "# Check if the person dictionary has skills key, if so check if the person has 'Python' skill and print out the result\n",
    "if 'skills' in person:\n",
    "        persons_list = person['skills']\n",
    "        if 'Python' in persons_list:\n",
    "                print(person)\n"
   ]
  },
  {
   "cell_type": "code",
   "execution_count": 10,
   "metadata": {},
   "outputs": [
    {
     "name": "stdout",
     "output_type": "stream",
     "text": [
      "He is a backend developer\n"
     ]
    }
   ],
   "source": [
    "# If a person skills has only JavaScript and React, print('He is a front end developer'), if the person skills has Node, Python, MongoDB, print('He is a backend developer'), if the person skills has React, Node and MongoDB, Print('He is a fullstack developer'), else print('unknown title') - for more accurate results more conditions can be nested!\n",
    "if 'skills' in person:\n",
    "        person_i = person['skills']\n",
    "        if 'Node' in person_i or 'MongoDB' in person_i:\n",
    "            print('He is a backend developer')\n",
    "        elif 'React' in person_i:\n",
    "            print('He is a fullstack developer')"
   ]
  },
  {
   "cell_type": "code",
   "execution_count": 11,
   "metadata": {},
   "outputs": [
    {
     "name": "stdout",
     "output_type": "stream",
     "text": [
      "Sheriff lives in Finland and he his married\n"
     ]
    }
   ],
   "source": [
    "# If the person is married and if he lives in Finland, print the information in the following format:\n",
    "# Asabeneh Yetayeh lives in Finland. He is married.\n",
    "is_married = True\n",
    "name = input(\"Enter your name: \")\n",
    "if is_married:\n",
    "        print(f'{name} lives in Finland and he his married')"
   ]
  }
 ],
 "metadata": {
  "kernelspec": {
   "display_name": "Python 3",
   "language": "python",
   "name": "python3"
  },
  "language_info": {
   "codemirror_mode": {
    "name": "ipython",
    "version": 3
   },
   "file_extension": ".py",
   "mimetype": "text/x-python",
   "name": "python",
   "nbconvert_exporter": "python",
   "pygments_lexer": "ipython3",
   "version": "3.11.4"
  }
 },
 "nbformat": 4,
 "nbformat_minor": 2
}
