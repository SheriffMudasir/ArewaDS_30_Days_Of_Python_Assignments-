{
 "cells": [
  {
   "cell_type": "markdown",
   "metadata": {},
   "source": [
    "### Try it yourself 1"
   ]
  },
  {
   "cell_type": "code",
   "execution_count": 6,
   "metadata": {},
   "outputs": [
    {
     "name": "stdout",
     "output_type": "stream",
     "text": [
      "Hello everyone, I am learning about Function !\n"
     ]
    }
   ],
   "source": [
    "# 8-1. Message\n",
    "def display_message():\n",
    "    \"Tell people what you are learning\"\n",
    "    print(f\"Hello everyone, I am learning about Function!\")\n",
    "\n",
    "\n",
    "display_message()\n"
   ]
  },
  {
   "cell_type": "code",
   "execution_count": 11,
   "metadata": {},
   "outputs": [
    {
     "name": "stdout",
     "output_type": "stream",
     "text": [
      "One of my favorite books is Small business Big money\n"
     ]
    }
   ],
   "source": [
    "# 8-2. Favorite Book\n",
    "def favorite_book(book):\n",
    "    \"Give information about favourite book \"\n",
    "    print(f\"One of my favorite books is {book}\")\n",
    "    \n",
    "favorite_book(\"Small business Big money\")"
   ]
  },
  {
   "cell_type": "markdown",
   "metadata": {},
   "source": [
    "### Try it yourself 2\n"
   ]
  },
  {
   "cell_type": "code",
   "execution_count": 16,
   "metadata": {},
   "outputs": [
    {
     "name": "stdout",
     "output_type": "stream",
     "text": [
      "The of the shirt is 23 and 'I love God' should be printed on it\n",
      "The of the shirt is 23 and 'I love God' should be printed on it\n"
     ]
    }
   ],
   "source": [
    "# 8-3. T-Shirt\n",
    "def make_shirt(size=\"\", message=\"\"):\n",
    "    \"Give information about size of a shirt and message to be printed on it\"\n",
    "    print(f\"The of the size shirt is {size} and {message} should be printed on it\")\n",
    "make_shirt(23, \"'I love God'\")\n",
    "make_shirt(size=23, message=\"'I love God'\")\n"
   ]
  },
  {
   "cell_type": "code",
   "execution_count": 20,
   "metadata": {},
   "outputs": [
    {
     "name": "stdout",
     "output_type": "stream",
     "text": [
      "The of the size shirt is medium and 'I love Python' should be printed on it\n",
      "The of the size shirt is meduim and 'I love Python' should be printed on it\n"
     ]
    }
   ],
   "source": [
    "# 8-4. Large Shirts\n",
    "def make_shirt(size=\"large\", message=\"\"):\n",
    "    \"Give information about size of a shirt and message to be printed on it\"\n",
    "    print(\n",
    "        f\"The of the size shirt is {size} and {message} should be printed on it\")\n",
    "\n",
    "\n",
    "make_shirt(\"medium\", message=\"'I love Python'\")\n",
    "make_shirt(size=\"meduim\", message=\"'I love Python'\")"
   ]
  },
  {
   "cell_type": "code",
   "execution_count": 23,
   "metadata": {},
   "outputs": [
    {
     "name": "stdout",
     "output_type": "stream",
     "text": [
      "Abuja is in Nigeria\n",
      "Accra is in Ghana\n",
      "Egypt is in Cairo|\n"
     ]
    }
   ],
   "source": [
    "# 8-5. Cities\n",
    "def describe_city(city, country=\"Nigeria\"):\n",
    "    \"Mention a city and the country in which it is located\"\n",
    "    print(f\"{city} is in {country}\")\n",
    "\n",
    "\n",
    "describe_city(\"Abuja\", \"Nigeria\")\n",
    "describe_city(\"Accra\", \"Ghana\")\n",
    "describe_city(\"Egypt\", \"Cairo\")"
   ]
  },
  {
   "cell_type": "markdown",
   "metadata": {},
   "source": [
    "### Try it Yourself 3"
   ]
  },
  {
   "cell_type": "code",
   "execution_count": 27,
   "metadata": {},
   "outputs": [
    {
     "name": "stdout",
     "output_type": "stream",
     "text": [
      "('Baku', 'Azabaijan')\n"
     ]
    }
   ],
   "source": [
    "# 8-6. City Names:\n",
    "def city_country(city, country):\n",
    "    \"City and the country\"\n",
    "    location = (city, country)\n",
    "    return location\n",
    "\n",
    "\n",
    "\n",
    "location = city_country(\"Baku\", \"Azabaijan\")\n",
    "print(location)"
   ]
  },
  {
   "cell_type": "code",
   "execution_count": 32,
   "metadata": {},
   "outputs": [
    {
     "name": "stdout",
     "output_type": "stream",
     "text": [
      "{'Artist name ': 'Wizkid', 'Album Title': ('Joy', 'jjf')}\n",
      "{'Artist name ': 'Burna Boy', 'Album Title': ('Twice as Tall',)}\n",
      "{'Artist name ': 'Davido', 'Album Title': ('Timeless',)}\n"
     ]
    }
   ],
   "source": [
    "# 8-7. Album\n",
    "def make_album(artist_name, *album_title):\n",
    "    dict_album = {\"Artist name \": artist_name, \"Album Title\": album_title}\n",
    "    return dict_album\n",
    "\n",
    "dict_album = make_album(\"Wizkid\", \"Joy\", \"Lagos\")\n",
    "print(dict_album)\n",
    "\n",
    "dict_album = make_album(\"Burna Boy\", \"Twice as Tall\")\n",
    "print(dict_album)\n",
    "\n",
    "dict_album = make_album(\"Davido\", \"Timeless\")\n",
    "print(dict_album)"
   ]
  },
  {
   "cell_type": "code",
   "execution_count": 41,
   "metadata": {},
   "outputs": [
    {
     "name": "stdout",
     "output_type": "stream",
     "text": [
      "{'Artist name ': 'Wizkid', 'Album Title': 'Joy'}\n"
     ]
    }
   ],
   "source": [
    "# 8-8. User Albums\n",
    "def make_album(artist_name, *album_titles):\n",
    "    for album_title in album_titles:\n",
    "        dict_album = {\"Artist name \": artist_name, \"Album Title\": album_title}\n",
    "        print(dict_album)\n",
    "\n",
    "\n",
    "artist_name = input(\"Enter the artist name: \")\n",
    "album_title = input(\"Enter the album title: \")\n",
    "make_album(artist_name, album_title)"
   ]
  },
  {
   "cell_type": "markdown",
   "metadata": {},
   "source": [
    "### Try it yourself 4"
   ]
  },
  {
   "cell_type": "code",
   "execution_count": 42,
   "metadata": {},
   "outputs": [
    {
     "name": "stdout",
     "output_type": "stream",
     "text": [
      "Please call me\n",
      "When will you be back\n",
      "What would you love for lauch\n"
     ]
    }
   ],
   "source": [
    "def show_messages(messages):\n",
    "    for message in messages:\n",
    "        print(message)\n",
    "\n",
    "message_list  = [\"Please call me\", \"When will you be back\", \"What would you love for lauch\"]\n",
    "show_messages(message_list)"
   ]
  },
  {
   "cell_type": "code",
   "execution_count": 46,
   "metadata": {},
   "outputs": [
    {
     "name": "stdout",
     "output_type": "stream",
     "text": [
      "['Please call me', 'When will you be back', 'What would you love for lauch']\n"
     ]
    }
   ],
   "source": [
    "def show_messages(messages):\n",
    "    message_list = []\n",
    "    for message in messages:\n",
    "        message_list.append(message)\n",
    "    print(message_list)\n",
    "        \n",
    "\n",
    "message_list = [\"Please call me\", \"When will you be back\",\"What would you love for lauch\"]\n",
    "show_messages(message_list)"
   ]
  },
  {
   "cell_type": "code",
   "execution_count": 48,
   "metadata": {},
   "outputs": [
    {
     "name": "stdout",
     "output_type": "stream",
     "text": [
      "['Please call me', 'When will you be back', 'What would you love for lauch']\n"
     ]
    }
   ],
   "source": [
    "# 8-11. Archived Messages\n",
    "def show_messages(messages):\n",
    "    message_list = messages.copy()\n",
    "    print(message_list)\n",
    "        \n",
    "\n",
    "message_list = [\"Please call me\", \"When will you be back\",\"What would you love for lauch\"]\n",
    "show_messages(message_list)\n"
   ]
  },
  {
   "cell_type": "markdown",
   "metadata": {},
   "source": [
    "### Try it Yourself 5"
   ]
  },
  {
   "cell_type": "code",
   "execution_count": 1,
   "metadata": {},
   "outputs": [
    {
     "name": "stdout",
     "output_type": "stream",
     "text": [
      "List of item i want on my sandwich are: \n",
      "['peperoni', 'stew', 'meat']\n"
     ]
    }
   ],
   "source": [
    "#  8-12. Sandwiches\n",
    "def sandwich(*items):\n",
    "    print(\"List of item i want on my sandwich are: \")\n",
    "    for item in items:\n",
    "        print(item)\n",
    "\n",
    "list_of_item = [\"peperoni\", \"stew\", \"meat\"]\n",
    "sandwich(list_of_item)"
   ]
  },
  {
   "cell_type": "code",
   "execution_count": 6,
   "metadata": {},
   "outputs": [
    {
     "name": "stdout",
     "output_type": "stream",
     "text": [
      "{'age': 25, 'location': 'Abuja', 'First Name': 'Sheriff', 'Surname': 'Mudasir'}\n"
     ]
    }
   ],
   "source": [
    "def build_profile(first_name, surname, **user_info):\n",
    "    \"Build user profile\"\n",
    "    user_info['First Name'] = first_name\n",
    "    user_info['Surname'] = surname\n",
    "    return user_info\n",
    "\n",
    "user_info = build_profile('Sheriff', 'Mudasir', age=25, location='Abuja')\n",
    "print(user_info)"
   ]
  },
  {
   "cell_type": "code",
   "execution_count": 8,
   "metadata": {},
   "outputs": [
    {
     "name": "stdout",
     "output_type": "stream",
     "text": [
      "{'color': 'blue', 'tow_package': True, 'Name': 'subaru', 'Make': 'outback'}\n"
     ]
    }
   ],
   "source": [
    "def make_car(name, make, **features):\n",
    "    features['Name'] = name\n",
    "    features['Make'] = make\n",
    "    return(features)\n",
    "\n",
    "car = make_car('subaru', 'outback', color='blue', tow_package=True)\n",
    "print(car)"
   ]
  }
 ],
 "metadata": {
  "kernelspec": {
   "display_name": "Python 3",
   "language": "python",
   "name": "python3"
  },
  "language_info": {
   "codemirror_mode": {
    "name": "ipython",
    "version": 3
   },
   "file_extension": ".py",
   "mimetype": "text/x-python",
   "name": "python",
   "nbconvert_exporter": "python",
   "pygments_lexer": "ipython3",
   "version": "3.11.4"
  }
 },
 "nbformat": 4,
 "nbformat_minor": 2
}
