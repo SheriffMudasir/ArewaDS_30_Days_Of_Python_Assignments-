{
 "cells": [
  {
   "cell_type": "markdown",
   "metadata": {},
   "source": [
    "# Exercises: Day 17"
   ]
  },
  {
   "cell_type": "code",
   "execution_count": 15,
   "metadata": {},
   "outputs": [
    {
     "name": "stdout",
     "output_type": "stream",
     "text": [
      "['Finland', 'Sweden', 'Norway', 'Denmark', 'Iceland']\n",
      "Estonia\n",
      "Russia\n"
     ]
    }
   ],
   "source": [
    "# names = ['Finland', 'Sweden', 'Norway','Denmark','Iceland', 'Estonia','Russia']. Unpack the first five countries and store them in a variable nordic_countries, store Estonia and Russia in es, and ru respectively.\n",
    "\n",
    "names = ['Finland', 'Sweden', 'Norway',\n",
    "         'Denmark', 'Iceland', 'Estonia', 'Russia']\n",
    "*nordic_countries, es, ru = names\n",
    "print(nordic_countries)\n",
    "print(es)\n",
    "print(ru)\n"
   ]
  }
 ],
 "metadata": {
  "kernelspec": {
   "display_name": "environ",
   "language": "python",
   "name": "python3"
  },
  "language_info": {
   "codemirror_mode": {
    "name": "ipython",
    "version": 3
   },
   "file_extension": ".py",
   "mimetype": "text/x-python",
   "name": "python",
   "nbconvert_exporter": "python",
   "pygments_lexer": "ipython3",
   "version": "3.11.4"
  }
 },
 "nbformat": 4,
 "nbformat_minor": 2
}
