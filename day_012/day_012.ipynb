{
 "cells": [
  {
   "cell_type": "markdown",
   "metadata": {},
   "source": [
    "# Exercises: Day 12"
   ]
  },
  {
   "cell_type": "markdown",
   "metadata": {},
   "source": [
    "## Exercises: Level 1"
   ]
  },
  {
   "cell_type": "code",
   "execution_count": 11,
   "metadata": {},
   "outputs": [
    {
     "name": "stdout",
     "output_type": "stream",
     "text": [
      "C9wYQK\n"
     ]
    }
   ],
   "source": [
    "# Writ a function which generates a six digit/character random_user_id.\n",
    "import random\n",
    "import string\n",
    "\n",
    "def random_user_id():\n",
    "        user_id = ''.join(random.choices(string.ascii_letters + string.digits, k=6))\n",
    "        return user_id\n",
    "\n",
    "print(random_user_id())"
   ]
  },
  {
   "cell_type": "code",
   "execution_count": 14,
   "metadata": {},
   "outputs": [
    {
     "name": "stdout",
     "output_type": "stream",
     "text": [
      "pMpudN62D3Vs5kq5\n",
      "7XJKBOnsxr9OhdSq\n",
      "YLBTqQSP4ywLVWPC\n",
      "yUNuBLITpYUGfSea\n",
      "nAR7xVO2uvbchZzo\n"
     ]
    }
   ],
   "source": [
    "# Modify the previous task. Declare a function named user_id_gen_by_user. It doesn’t take any parameters but it takes two inputs using input(). One of the inputs is the number of characters and the second input is the number of IDs which are supposed to be generated.\n",
    "import string\n",
    "import random\n",
    "\n",
    "\n",
    "def user_id_gen_by_user():\n",
    "    input1 = int(input(\"Enter the number of characters for each ID: \"))\n",
    "    input2 = int(input(\"Enter the number of IDs to generate: \"))\n",
    "    for _ in range(input2):\n",
    "        user_id = ''.join(random.choices(\n",
    "            string.ascii_letters + string.digits, k=input1))\n",
    "        print(user_id)\n",
    "\n",
    "user_id_gen_by_user()"
   ]
  },
  {
   "cell_type": "code",
   "execution_count": 18,
   "metadata": {},
   "outputs": [
    {
     "name": "stdout",
     "output_type": "stream",
     "text": [
      "rgb(135,78,173)\n"
     ]
    }
   ],
   "source": [
    "# Write a function named rgb_color_gen. It will generate rgb colors (3 values ranging from 0 to 255 each).\n",
    "import random\n",
    "def rgb_color_gen():\n",
    "        red = random.randint(0, 255)\n",
    "        green = random.randint(0, 255)\n",
    "        blue = random.randint(0, 255)\n",
    "        return f\"rgb({red},{green},{blue})\"\n",
    "print(rgb_color_gen())\n",
    "# rgb(125,244,255) - the output should be in this form"
   ]
  },
  {
   "cell_type": "markdown",
   "metadata": {},
   "source": [
    "## Exercises: Level 2"
   ]
  },
  {
   "cell_type": "code",
   "execution_count": 29,
   "metadata": {},
   "outputs": [
    {
     "name": "stdout",
     "output_type": "stream",
     "text": [
      "#C4e08f\n"
     ]
    }
   ],
   "source": [
    "#Write a function list_of_hexa_colors which returns any number of hexadecimal colors in an array (six hexadecimal numbers written after #. Hexadecimal numeral system is made out of 16 symbols, 0-9 and first 6 letters of the alphabet, a-f. Check the task 6 for output examples).\n",
    "import random\n",
    "import string\n",
    "def list_of_hexa_colors():\n",
    "    hex_color = ''.join(random.choices(string.hexdigits, k=6))\n",
    "    return f\"#{hex_color}\"\n",
    "\n",
    "\n",
    "print(list_of_hexa_colors())"
   ]
  },
  {
   "cell_type": "code",
   "execution_count": 35,
   "metadata": {},
   "outputs": [
    {
     "data": {
      "text/plain": [
       "['rgb(76,131,56)',\n",
       " 'rgb(208,106,117)',\n",
       " 'rgb(173,165,194)',\n",
       " 'rgb(226,140,218)',\n",
       " 'rgb(38,63,157)',\n",
       " 'rgb(173,240,107)',\n",
       " 'rgb(69,158,61)']"
      ]
     },
     "execution_count": 35,
     "metadata": {},
     "output_type": "execute_result"
    }
   ],
   "source": [
    "# Write a function list_of_rgb_colors which returns any number of RGB colors in an array.\n",
    "import random\n",
    "import string\n",
    "def list_of_rgb_colors(number = 5):\n",
    "        colors = []\n",
    "        for i in range(number):\n",
    "                red = random.randint(0, 255)\n",
    "                green = random.randint(0, 255)\n",
    "                blue = random.randint(0, 255)\n",
    "                colors.append(f\"rgb({red},{green},{blue})\")\n",
    "        return colors\n",
    "\n",
    "\n",
    "list_of_rgb_colors(number = 7)"
   ]
  },
  {
   "cell_type": "code",
   "execution_count": 53,
   "metadata": {},
   "outputs": [
    {
     "data": {
      "text/plain": [
       "['#82bDDE', '#7B30F5', '#9De101']"
      ]
     },
     "execution_count": 53,
     "metadata": {},
     "output_type": "execute_result"
    }
   ],
   "source": [
    "# Write a function generate_colors which can generate any number of hexa or rgb colors.\n",
    "import string\n",
    "import random\n",
    "\n",
    "def generate_colors(color_val, numbers):\n",
    "        colors =[]\n",
    "        for i in range(numbers):\n",
    "                if color_val == 'hexa':\n",
    "                        hex_color = \"\".join(random.choices(string.hexdigits, k = 6))\n",
    "                        colors.append(f'#{hex_color}')\n",
    "                elif color_val == 'rgb':\n",
    "                        red = random.randint(0, 255)\n",
    "                        green = random.randint(0, 255)\n",
    "                        blue = random.randint(0, 255)\n",
    "                        colors.append(f\"rgb({red},{green},{blue})\")\n",
    "        return colors\n",
    "\n",
    "                        \n",
    "\n",
    "        \n",
    "\n",
    "generate_colors('hexa', 3) # ['#a3e12f','#03ed55','#eb3d2b'] \n",
    "#generate_colors('hexa', 1) # ['#b334ef']\n",
    "#generate_colors('rgb', 3)  # ['rgb(5, 55, 175','rgb(50, 105, 100','rgb(15, 26, 80'] \n",
    "#generate_colors('rgb', 1)  # ['rgb(33,79, 176)']"
   ]
  },
  {
   "cell_type": "markdown",
   "metadata": {},
   "source": [
    "## Exercises: Level 3"
   ]
  },
  {
   "cell_type": "code",
   "execution_count": 63,
   "metadata": {},
   "outputs": [
    {
     "name": "stdout",
     "output_type": "stream",
     "text": [
      "[1, 4, 3, 2, 5]\n"
     ]
    }
   ],
   "source": [
    "# Call your function shuffle_list, it takes a list as a parameter and it returns a shuffled list\n",
    "import random\n",
    "\n",
    "def shuffle_list(lst):\n",
    "    random.shuffle(lst)\n",
    "    return lst\n",
    "\n",
    "numbers = [1, 2, 3, 4, 5]\n",
    "shuffled_numbers = shuffle_list(numbers)\n",
    "print(shuffled_numbers)"
   ]
  },
  {
   "cell_type": "code",
   "execution_count": 72,
   "metadata": {},
   "outputs": [
    {
     "name": "stdout",
     "output_type": "stream",
     "text": [
      "2346175\n"
     ]
    }
   ],
   "source": [
    "# Write a function which returns an array of seven random numbers in a range of 0-9. All the numbers must be unique.\n",
    "import random\n",
    "import string\n",
    "def seven_random_numbers():\n",
    "    unique_numbers = random.sample(range(10), 7)\n",
    "    random_numbers = ''.join(map(str, unique_numbers))\n",
    "    return random_numbers\n",
    "print(seven_random_numbers())\n"
   ]
  },
  {
   "cell_type": "code",
   "execution_count": null,
   "metadata": {},
   "outputs": [],
   "source": []
  }
 ],
 "metadata": {
  "kernelspec": {
   "display_name": "environ",
   "language": "python",
   "name": "python3"
  },
  "language_info": {
   "codemirror_mode": {
    "name": "ipython",
    "version": 3
   },
   "file_extension": ".py",
   "mimetype": "text/x-python",
   "name": "python",
   "nbconvert_exporter": "python",
   "pygments_lexer": "ipython3",
   "version": "3.11.4"
  }
 },
 "nbformat": 4,
 "nbformat_minor": 2
}
