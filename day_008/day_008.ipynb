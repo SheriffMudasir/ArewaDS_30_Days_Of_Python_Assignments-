{
 "cells": [
  {
   "cell_type": "markdown",
   "metadata": {},
   "source": [
    "# Exercises: Day 8"
   ]
  },
  {
   "cell_type": "code",
   "execution_count": 45,
   "metadata": {},
   "outputs": [],
   "source": [
    "# Create an empty dictionary called dog\n",
    "dog = {}"
   ]
  },
  {
   "cell_type": "code",
   "execution_count": 46,
   "metadata": {},
   "outputs": [],
   "source": [
    "# Add name, color, breed, legs, age to the dog dictionary\n",
    "\n",
    "dog = {\n",
    "        'name':'Royal Beast',\n",
    "        'color':'Black',\n",
    "        'breed':'German Shepard',\n",
    "        'legs': 4,\n",
    "        'age': 5\n",
    "}"
   ]
  },
  {
   "cell_type": "code",
   "execution_count": 47,
   "metadata": {},
   "outputs": [
    {
     "name": "stdout",
     "output_type": "stream",
     "text": [
      "{'first_name': 'Sheriff', 'last_name': 'Mudasir', 'gender': 'Male', 'age': 25, 'marital status': 'Single', 'skills': ['Drawing', 'Writing', 'Singing', 'Playing'], 'country': 'Nigeria', 'city': 'Kano', 'address': {'street': 'Gwarzo', 'street_no': 29484}}\n"
     ]
    }
   ],
   "source": [
    "# Create a student dictionary and add first_name, last_name, gender, age, marital status, skills, country, city and address as keys for the dictionary\n",
    "\n",
    "student = {\n",
    "        'first_name':'Sheriff',\n",
    "        'last_name':'Mudasir',\n",
    "        'gender':'Male',\n",
    "        'age':25,\n",
    "        'marital status':'Single',\n",
    "        'skills':['Drawing', 'Writing', 'Singing', 'Playing'],\n",
    "        'country':'Nigeria',\n",
    "        'city':'Kano',\n",
    "        'address': {'street': 'Gwarzo', 'street_no':29484}\n",
    "}\n",
    "print(student)"
   ]
  },
  {
   "cell_type": "code",
   "execution_count": 48,
   "metadata": {},
   "outputs": [
    {
     "name": "stdout",
     "output_type": "stream",
     "text": [
      "9\n"
     ]
    }
   ],
   "source": [
    "#Get the length of the student dictionary\n",
    "print(len(student))"
   ]
  },
  {
   "cell_type": "code",
   "execution_count": 49,
   "metadata": {},
   "outputs": [
    {
     "name": "stdout",
     "output_type": "stream",
     "text": [
      "['Drawing', 'Writing', 'Singing', 'Playing']\n",
      "<class 'list'>\n"
     ]
    }
   ],
   "source": [
    "# Get the value of skills and check the data type, it should be a list\n",
    "print(student['skills'])\n",
    "print(type(student['skills']))"
   ]
  },
  {
   "cell_type": "code",
   "execution_count": 50,
   "metadata": {},
   "outputs": [
    {
     "name": "stdout",
     "output_type": "stream",
     "text": [
      "{'first_name': 'Sheriff', 'last_name': 'Mudasir', 'gender': 'Male', 'age': 25, 'marital status': 'Single', 'skills': ['Drawing', 'Writing', 'Singing', 'Playing', 'Knitting', 'Tailoring'], 'country': 'Nigeria', 'city': 'Kano', 'address': {'street': 'Gwarzo', 'street_no': 29484}}\n"
     ]
    }
   ],
   "source": [
    "# Modify the skills values by adding one or two skills\n",
    "student['skills'].append('Knitting')\n",
    "student['skills'].append('Tailoring')\n",
    "print(student)\n"
   ]
  },
  {
   "cell_type": "code",
   "execution_count": 51,
   "metadata": {},
   "outputs": [
    {
     "name": "stdout",
     "output_type": "stream",
     "text": [
      "dict_keys(['first_name', 'last_name', 'gender', 'age', 'marital status', 'skills', 'country', 'city', 'address'])\n"
     ]
    }
   ],
   "source": [
    "# Get the dictionary keys as a list\n",
    "list_keys = student.keys()\n",
    "print(list_keys)"
   ]
  },
  {
   "cell_type": "code",
   "execution_count": 52,
   "metadata": {},
   "outputs": [
    {
     "name": "stdout",
     "output_type": "stream",
     "text": [
      "dict_values(['Sheriff', 'Mudasir', 'Male', 25, 'Single', ['Drawing', 'Writing', 'Singing', 'Playing', 'Knitting', 'Tailoring'], 'Nigeria', 'Kano', {'street': 'Gwarzo', 'street_no': 29484}])\n"
     ]
    }
   ],
   "source": [
    "# Get the dictionary values as a list\n",
    "list_values = student.values()\n",
    "print(list_values)"
   ]
  },
  {
   "cell_type": "code",
   "execution_count": 53,
   "metadata": {},
   "outputs": [
    {
     "name": "stdout",
     "output_type": "stream",
     "text": [
      "dict_items([('first_name', 'Sheriff'), ('last_name', 'Mudasir'), ('gender', 'Male'), ('age', 25), ('marital status', 'Single'), ('skills', ['Drawing', 'Writing', 'Singing', 'Playing', 'Knitting', 'Tailoring']), ('country', 'Nigeria'), ('city', 'Kano'), ('address', {'street': 'Gwarzo', 'street_no': 29484})])\n"
     ]
    }
   ],
   "source": [
    "# Change the dictionary to a list of tuples using items() method\n",
    "print(student.items())"
   ]
  },
  {
   "cell_type": "code",
   "execution_count": 54,
   "metadata": {},
   "outputs": [],
   "source": [
    "# Delete one of the items in the dictionary\n",
    "del student['first_name']"
   ]
  },
  {
   "cell_type": "code",
   "execution_count": 55,
   "metadata": {},
   "outputs": [],
   "source": [
    "# Delete one of the dictionaries\n",
    "del student"
   ]
  },
  {
   "cell_type": "code",
   "execution_count": null,
   "metadata": {},
   "outputs": [],
   "source": []
  }
 ],
 "metadata": {
  "kernelspec": {
   "display_name": "Python 3",
   "language": "python",
   "name": "python3"
  },
  "language_info": {
   "codemirror_mode": {
    "name": "ipython",
    "version": 3
   },
   "file_extension": ".py",
   "mimetype": "text/x-python",
   "name": "python",
   "nbconvert_exporter": "python",
   "pygments_lexer": "ipython3",
   "version": "3.11.4"
  }
 },
 "nbformat": 4,
 "nbformat_minor": 2
}
